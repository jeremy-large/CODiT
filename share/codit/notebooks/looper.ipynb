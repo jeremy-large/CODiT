{
 "cells": [
  {
   "cell_type": "markdown",
   "metadata": {},
   "source": [
    "### We begin with boilerplate:"
   ]
  },
  {
   "cell_type": "code",
   "execution_count": 1,
   "metadata": {},
   "outputs": [],
   "source": [
    "import os\n",
    "import sys\n",
    "from collections import defaultdict\n",
    "import numpy as np\n",
    "from joblib import Parallel, delayed\n",
    "import multiprocessing\n",
    "\n",
    "import codit.society as society\n",
    "import codit.society.lateral as lateral\n",
    "from codit.outbreak import Outbreak\n",
    "from codit.disease import Covid\n",
    "from codit.population.covid import PersonCovid\n",
    "from codit.population.networks.household_workplace import HouseholdWorkplacePopulation\n",
    "import codit.config"
   ]
  },
  {
   "cell_type": "code",
   "execution_count": 2,
   "metadata": {
    "slideshow": {
     "slide_type": "notes"
    }
   },
   "outputs": [],
   "source": [
    "%matplotlib inline \n",
    "import matplotlib.pyplot as plt\n",
    "plt.rcParams[\"figure.figsize\"] = [12, 5]"
   ]
  },
  {
   "cell_type": "code",
   "execution_count": 3,
   "metadata": {},
   "outputs": [],
   "source": [
    "import logging\n",
    "logging.basicConfig(format='%(asctime)s %(levelname)s:%(message)s', level=logging.ERROR)"
   ]
  },
  {
   "cell_type": "markdown",
   "metadata": {},
   "source": [
    "## 1. Recall the baseline config of all the simulations:"
   ]
  },
  {
   "cell_type": "code",
   "execution_count": 4,
   "metadata": {},
   "outputs": [
    {
     "name": "stdout",
     "output_type": "stream",
     "text": [
      "CROSS_IMMUNITY {<ImmuneResponse.SARS_CoV_2_INFECTION: 1>: {<ImmuneResponse.SARS_CoV_2_INFECTION: 1>: 1.0, <ImmuneResponse.B_1_1_7_INFECTION: 2>: 1.0, <ImmuneResponse.B_1_617_2_INFECTION: 4>: 1.0}, <ImmuneResponse.B_1_1_7_INFECTION: 2>: {<ImmuneResponse.SARS_CoV_2_INFECTION: 1>: 1.0, <ImmuneResponse.B_1_1_7_INFECTION: 2>: 1.0, <ImmuneResponse.B_1_617_2_INFECTION: 4>: 1.0}, <ImmuneResponse.B_1_617_2_INFECTION: 4>: {<ImmuneResponse.SARS_CoV_2_INFECTION: 1>: 1.0, <ImmuneResponse.B_1_1_7_INFECTION: 2>: 1.0, <ImmuneResponse.B_1_617_2_INFECTION: 4>: 1.0}}\n",
      "DAILY_TEST_CAPACITY_PER_HEAD 0.0075\n",
      "DAYS_BEFORE_INFECTIOUS 4\n",
      "DAYS_INFECTIOUS_TO_SYMPTOMS 2\n",
      "DAYS_OF_SYMPTOMS 5\n",
      "DEFAULT_COVID ImmuneResponse.SARS_CoV_2_INFECTION\n",
      "DURATION_OF_ISOLATION 10\n",
      "MEAN_NETWORK_SIZE 9.0\n",
      "PROB_APPLY_FOR_TEST_IF_SYMPTOMS 0.75\n",
      "PROB_GET_TEST_IF_TRACED 0.75\n",
      "PROB_INFECT_IF_TOGETHER_ON_A_DAY {<ImmuneResponse.SARS_CoV_2_INFECTION: 1>: 0.025, <ImmuneResponse.B_1_1_7_INFECTION: 2>: 0.039, <ImmuneResponse.B_1_617_2_INFECTION: 4>: 0.054599999999999996}\n",
      "PROB_ISOLATE_IF_SYMPTOMS 0.75\n",
      "PROB_ISOLATE_IF_TESTPOS 0.3\n",
      "PROB_ISOLATE_IF_TRACED 0.3\n",
      "PROB_NON_C19_SYMPTOMS_PER_DAY 0.01\n",
      "PROB_SYMPTOMATIC 0.6\n",
      "PROB_TEST_IF_REQUESTED 1\n",
      "PROB_TRACING_GIVEN_CONTACT 0.6000000000000001\n",
      "SIMULATOR_PERIODS_PER_DAY 1\n",
      "TEST_DAYS_ELAPSED 1\n",
      "VACCINATION_IMMUNITY {<ImmuneResponse.ASTRAZENECA_1ST_DOSE: 8>: {<ImmuneResponse.SARS_CoV_2_INFECTION: 1>: 1.0, <ImmuneResponse.B_1_1_7_INFECTION: 2>: 1.0, <ImmuneResponse.B_1_617_2_INFECTION: 4>: 1.0}, <ImmuneResponse.PFIZER_1ST_DOSE: 16>: {<ImmuneResponse.SARS_CoV_2_INFECTION: 1>: 1.0, <ImmuneResponse.B_1_1_7_INFECTION: 2>: 1.0, <ImmuneResponse.B_1_617_2_INFECTION: 4>: 1.0}, <ImmuneResponse.MODERNA_1ST_DOSE: 32>: {<ImmuneResponse.SARS_CoV_2_INFECTION: 1>: 1.0, <ImmuneResponse.B_1_1_7_INFECTION: 2>: 1.0, <ImmuneResponse.B_1_617_2_INFECTION: 4>: 1.0}}\n",
      "X_IMMUNITY 1.0\n",
      "_CFG__X_IMMUNITIES {<ImmuneResponse.SARS_CoV_2_INFECTION: 1>: 1.0, <ImmuneResponse.B_1_1_7_INFECTION: 2>: 1.0, <ImmuneResponse.B_1_617_2_INFECTION: 4>: 1.0}\n",
      "_PROPORTION_OF_INFECTED_WHO_GET_TESTED 0.44999999999999996\n",
      "_TARGET_R0 1.4\n"
     ]
    }
   ],
   "source": [
    "codit.config.print_baseline_config()"
   ]
  },
  {
   "cell_type": "markdown",
   "metadata": {},
   "source": [
    "## 2. Now set the scale of the simulations:"
   ]
  },
  {
   "cell_type": "markdown",
   "metadata": {},
   "source": [
    "We'll simulate across several small towns/villages, each of size:"
   ]
  },
  {
   "cell_type": "code",
   "execution_count": 5,
   "metadata": {},
   "outputs": [],
   "source": [
    "population_size = 5600 * 2"
   ]
  },
  {
   "cell_type": "markdown",
   "metadata": {},
   "source": [
    "Next, decide how many infected people to seed as infected in each simulation:"
   ]
  },
  {
   "cell_type": "code",
   "execution_count": 6,
   "metadata": {},
   "outputs": [
    {
     "data": {
      "text/plain": [
       "140"
      ]
     },
     "execution_count": 6,
     "metadata": {},
     "output_type": "execute_result"
    }
   ],
   "source": [
    "nSeed = int(population_size / 80) # setting infection rate to 1/80\n",
    "nSeed"
   ]
  },
  {
   "cell_type": "markdown",
   "metadata": {},
   "source": [
    "The number of days of the epidemic to simulate:"
   ]
  },
  {
   "cell_type": "code",
   "execution_count": 7,
   "metadata": {},
   "outputs": [],
   "source": [
    "nDays = 121"
   ]
  },
  {
   "cell_type": "markdown",
   "metadata": {},
   "source": [
    "Number of times to repeat each simulated setting:"
   ]
  },
  {
   "cell_type": "code",
   "execution_count": 8,
   "metadata": {},
   "outputs": [],
   "source": [
    "nReps = 12"
   ]
  },
  {
   "cell_type": "markdown",
   "metadata": {},
   "source": [
    "Now lets figure out how to batch this:"
   ]
  },
  {
   "cell_type": "code",
   "execution_count": 9,
   "metadata": {},
   "outputs": [
    {
     "data": {
      "text/plain": [
       "2"
      ]
     },
     "execution_count": 9,
     "metadata": {},
     "output_type": "execute_result"
    }
   ],
   "source": [
    "batch_size = multiprocessing.cpu_count() - 2\n",
    "\n",
    "n_batches = (nReps - 1) // batch_size + 1\n",
    "n_batches"
   ]
  },
  {
   "cell_type": "markdown",
   "metadata": {},
   "source": [
    "## 3. Now lets configure the scenarios to be repeatedly simulated and compared:"
   ]
  },
  {
   "cell_type": "markdown",
   "metadata": {},
   "source": [
    "OK, now it's time to set up our grid of configs to try (these will override the list of config at the top of this notebook).\n",
    "\n",
    "This bit of coding is always somewhat ad-hoc and is where a lot of the experimentation takes place:"
   ]
  },
  {
   "cell_type": "code",
   "execution_count": 10,
   "metadata": {},
   "outputs": [],
   "source": [
    "valencies = [30, 100]  # [20, 25]"
   ]
  },
  {
   "cell_type": "code",
   "execution_count": 11,
   "metadata": {},
   "outputs": [],
   "source": [
    "c_valencies = [11]  # [7, 11, 15]"
   ]
  },
  {
   "cell_type": "code",
   "execution_count": 12,
   "metadata": {},
   "outputs": [],
   "source": [
    "valency_frequencies = [3]"
   ]
  },
  {
   "cell_type": "code",
   "execution_count": 13,
   "metadata": {},
   "outputs": [],
   "source": [
    "population_config = dict(MEAN_NETWORK_SIZE = 4)"
   ]
  },
  {
   "cell_type": "code",
   "execution_count": 14,
   "metadata": {},
   "outputs": [],
   "source": [
    "society_config = dict()\n",
    "valency_config = dict()"
   ]
  },
  {
   "cell_type": "markdown",
   "metadata": {},
   "source": [
    "Create a dictionary of the 'societies' that interest us, by named keys:"
   ]
  },
  {
   "cell_type": "code",
   "execution_count": 15,
   "metadata": {},
   "outputs": [],
   "source": [
    "societies={'UK': (society.UKSociety, society_config),\n",
    "#            'DoubleTester': (society.ContactDoubleTestingSociety, society_config),\n",
    "#            'ValencyIsolator_NoQ': (society.HighValencyIsolator, valency_config)\n",
    "          }"
   ]
  },
  {
   "cell_type": "markdown",
   "metadata": {},
   "source": [
    "We can use the box below if we want to add some two-track testers to our list of 'societies':"
   ]
  },
  {
   "cell_type": "markdown",
   "metadata": {},
   "source": [
    "We will use the box below to add some lateral testers to our simulation:"
   ]
  },
  {
   "cell_type": "code",
   "execution_count": 16,
   "metadata": {},
   "outputs": [],
   "source": [
    "def get_lateral_tester(thresh, lat_pcr_ratio, retest_positives):\n",
    "    attribute_overrides = valency_config.copy()\n",
    "    attribute_overrides.update(dict(VALENCY_TEST_FREQUENCY_DAYS = 3, LATERAL_TO_PCR_RATIO = lat_pcr_ratio, RETEST_POSITIVE_CASES=retest_positives))\n",
    "    return lateral.LateralFlowUK, attribute_overrides"
   ]
  },
  {
   "cell_type": "code",
   "execution_count": 17,
   "metadata": {},
   "outputs": [],
   "source": [
    "societies.update({f'LateralFlow_{rp}_{lpr}_{thresh}': get_lateral_tester(thresh, lpr, rp) \n",
    "                  for thresh in valencies \n",
    "#                   for freq in valency_frequencies\n",
    "                  for lpr in [0, 10, 20]\n",
    "                  for rp in [True]}\n",
    "                )"
   ]
  },
  {
   "cell_type": "markdown",
   "metadata": {},
   "source": [
    "At a background level, we mway want to repeat the whole list of societies with some variations on the underlying config:"
   ]
  },
  {
   "cell_type": "code",
   "execution_count": 18,
   "metadata": {},
   "outputs": [],
   "source": [
    "# we'll look at only one variant, where test results come back in half a day:\n",
    "\n",
    "config_variants = [dict(DAILY_TEST_CAPACITY_PER_HEAD=0.0075, SIMULATOR_PERIODS_PER_DAY=4)]\n",
    "#                    dict(SIMULATOR_PERIODS_PER_DAY=4), ] \n",
    "#                    dict()]   # dict(TEST_DAYS_ELAPSED = 1)"
   ]
  },
  {
   "cell_type": "code",
   "execution_count": 19,
   "metadata": {},
   "outputs": [],
   "source": [
    "configs = {soc_name + \"_\".join([\"\"] + [f\"{k[:10]}={v}\" for k, v in variant.items()]): (soc, variant) \n",
    "           for soc_name, soc in societies.items() \n",
    "           for variant in config_variants}\n",
    "\n",
    "configs.update({'Naive': ((society.Society, society_config), dict(PROB_ISOLATE_IF_SYMPTOMS = 0))})"
   ]
  },
  {
   "cell_type": "markdown",
   "metadata": {},
   "source": [
    "### And finally, lets print out those configs:"
   ]
  },
  {
   "cell_type": "code",
   "execution_count": 20,
   "metadata": {},
   "outputs": [
    {
     "name": "stdout",
     "output_type": "stream",
     "text": [
      "UK_DAILY_TEST=0.0075_SIMULATOR_=4\n",
      "LateralFlow_True_0_30_DAILY_TEST=0.0075_SIMULATOR_=4\n",
      "LateralFlow_True_10_30_DAILY_TEST=0.0075_SIMULATOR_=4\n",
      "LateralFlow_True_20_30_DAILY_TEST=0.0075_SIMULATOR_=4\n",
      "LateralFlow_True_0_100_DAILY_TEST=0.0075_SIMULATOR_=4\n",
      "LateralFlow_True_10_100_DAILY_TEST=0.0075_SIMULATOR_=4\n",
      "LateralFlow_True_20_100_DAILY_TEST=0.0075_SIMULATOR_=4\n",
      "Naive\n"
     ]
    }
   ],
   "source": [
    "for name, _ in configs.items():\n",
    "    print(name)"
   ]
  },
  {
   "cell_type": "markdown",
   "metadata": {},
   "source": [
    "## 4. Now it is time actually to perform the simulations:"
   ]
  },
  {
   "cell_type": "markdown",
   "metadata": {},
   "source": [
    "Loop through the options of interest:"
   ]
  },
  {
   "cell_type": "code",
   "execution_count": 21,
   "metadata": {},
   "outputs": [],
   "source": [
    "def build_society(society, society_attributes, config_overrides=dict()):\n",
    "    soc = society(config=config_overrides)\n",
    "    for name, val in society_attributes.items():\n",
    "        setattr(soc, name, val) # add/update attributes of this society as determined by society_attributes\n",
    "    return soc"
   ]
  },
  {
   "cell_type": "code",
   "execution_count": 22,
   "metadata": {},
   "outputs": [],
   "source": [
    "def do_loop(n_batch):\n",
    "    pop = HouseholdWorkplacePopulation(population_size, society.Society(config=population_config), person_type=PersonCovid)\n",
    "    these_results = dict()\n",
    "    for name, ((soc, variant), conf) in configs.items():\n",
    "        logging.warning(f\"starting on {name}, job {n_batch}\")\n",
    "        soc = build_society(soc, variant, config_overrides=conf)\n",
    "        o = Outbreak(soc, Covid(config=conf), population=pop, seed_size=nSeed, n_days=nDays, person_type=PersonCovid).simulate()\n",
    "        these_results[name] = o\n",
    "    return these_results"
   ]
  },
  {
   "cell_type": "code",
   "execution_count": 23,
   "metadata": {},
   "outputs": [],
   "source": [
    "results = defaultdict(list)"
   ]
  },
  {
   "cell_type": "markdown",
   "metadata": {},
   "source": [
    "... and the next box does most of the work:"
   ]
  },
  {
   "cell_type": "code",
   "execution_count": 24,
   "metadata": {},
   "outputs": [
    {
     "name": "stderr",
     "output_type": "stream",
     "text": [
      "2021-05-16 17:30:10,395 CRITICAL:starting on 1/2 batches, batch size of 6\n",
      "[Parallel(n_jobs=-1)]: Using backend LokyBackend with 8 concurrent workers.\n",
      "[Parallel(n_jobs=-1)]: Done   6 out of   6 | elapsed:  4.2min finished\n",
      "2021-05-16 17:34:22,175 CRITICAL:starting on 2/2 batches, batch size of 6\n",
      "[Parallel(n_jobs=-1)]: Using backend LokyBackend with 8 concurrent workers.\n",
      "[Parallel(n_jobs=-1)]: Done   6 out of   6 | elapsed:  4.2min finished\n"
     ]
    }
   ],
   "source": [
    "for batch in range(n_batches):\n",
    "    logging.critical(f\"starting on {batch + 1}/{n_batches} batches, batch size of {batch_size}\")\n",
    "    list_results = Parallel(n_jobs=-1, verbose=1)(delayed(do_loop)(n_batch) for n_batch in range(batch_size))\n",
    "    for res_dict in list_results:\n",
    "        for k, v in res_dict.items():\n",
    "            results[k].append(v)\n",
    "#         results = dict(results)"
   ]
  },
  {
   "cell_type": "markdown",
   "metadata": {},
   "source": [
    "## 5. Report some results from these simulations:"
   ]
  },
  {
   "cell_type": "code",
   "execution_count": 25,
   "metadata": {},
   "outputs": [
    {
     "name": "stdout",
     "output_type": "stream",
     "text": [
      "config                                                       pc_infected (mean  &  std)    R0      q%/head   num_runs\n"
     ]
    },
    {
     "ename": "AttributeError",
     "evalue": "'OutbreakRecorder' object has no attribute 'story'",
     "output_type": "error",
     "traceback": [
      "\u001b[0;31m---------------------------------------------------------------------------\u001b[0m",
      "\u001b[0;31mAttributeError\u001b[0m                            Traceback (most recent call last)",
      "\u001b[0;32m<ipython-input-25-bd2e9d4662b8>\u001b[0m in \u001b[0;36m<module>\u001b[0;34m\u001b[0m\n\u001b[1;32m      2\u001b[0m \u001b[0mresults_sorted\u001b[0m \u001b[0;34m=\u001b[0m \u001b[0msorted\u001b[0m\u001b[0;34m(\u001b[0m\u001b[0mresults\u001b[0m\u001b[0;34m.\u001b[0m\u001b[0mitems\u001b[0m\u001b[0;34m(\u001b[0m\u001b[0;34m)\u001b[0m\u001b[0;34m)\u001b[0m\u001b[0;34m\u001b[0m\u001b[0;34m\u001b[0m\u001b[0m\n\u001b[1;32m      3\u001b[0m \u001b[0;32mfor\u001b[0m \u001b[0mname\u001b[0m\u001b[0;34m,\u001b[0m \u001b[0mrecorders\u001b[0m \u001b[0;32min\u001b[0m \u001b[0mresults_sorted\u001b[0m\u001b[0;34m:\u001b[0m\u001b[0;34m\u001b[0m\u001b[0;34m\u001b[0m\u001b[0m\n\u001b[0;32m----> 4\u001b[0;31m     \u001b[0minfection_percent\u001b[0m \u001b[0;34m=\u001b[0m \u001b[0;34m[\u001b[0m\u001b[0mr\u001b[0m\u001b[0;34m.\u001b[0m\u001b[0mstory\u001b[0m\u001b[0;34m[\u001b[0m\u001b[0;34m-\u001b[0m\u001b[0;36m1\u001b[0m\u001b[0;34m]\u001b[0m\u001b[0;34m[\u001b[0m\u001b[0;36m1\u001b[0m\u001b[0;34m]\u001b[0m \u001b[0;34m*\u001b[0m \u001b[0;36m100\u001b[0m \u001b[0;32mfor\u001b[0m \u001b[0mr\u001b[0m \u001b[0;32min\u001b[0m \u001b[0mrecorders\u001b[0m\u001b[0;34m]\u001b[0m\u001b[0;34m\u001b[0m\u001b[0;34m\u001b[0m\u001b[0m\n\u001b[0m\u001b[1;32m      5\u001b[0m     \u001b[0mtest_backlog\u001b[0m \u001b[0;34m=\u001b[0m \u001b[0;34m[\u001b[0m\u001b[0mr\u001b[0m\u001b[0;34m.\u001b[0m\u001b[0mstory\u001b[0m\u001b[0;34m[\u001b[0m\u001b[0;34m-\u001b[0m\u001b[0;36m1\u001b[0m\u001b[0;34m]\u001b[0m\u001b[0;34m[\u001b[0m\u001b[0;36m4\u001b[0m\u001b[0;34m]\u001b[0m \u001b[0;34m*\u001b[0m \u001b[0;36m100\u001b[0m \u001b[0;32mfor\u001b[0m \u001b[0mr\u001b[0m \u001b[0;32min\u001b[0m \u001b[0mrecorders\u001b[0m\u001b[0;34m]\u001b[0m\u001b[0;34m\u001b[0m\u001b[0;34m\u001b[0m\u001b[0m\n\u001b[1;32m      6\u001b[0m     \u001b[0mr0s\u001b[0m \u001b[0;34m=\u001b[0m \u001b[0;34m[\u001b[0m\u001b[0mr\u001b[0m\u001b[0;34m.\u001b[0m\u001b[0mrealized_r0\u001b[0m \u001b[0;32mfor\u001b[0m \u001b[0mr\u001b[0m \u001b[0;32min\u001b[0m \u001b[0mrecorders\u001b[0m\u001b[0;34m]\u001b[0m\u001b[0;34m\u001b[0m\u001b[0;34m\u001b[0m\u001b[0m\n",
      "\u001b[0;32m<ipython-input-25-bd2e9d4662b8>\u001b[0m in \u001b[0;36m<listcomp>\u001b[0;34m(.0)\u001b[0m\n\u001b[1;32m      2\u001b[0m \u001b[0mresults_sorted\u001b[0m \u001b[0;34m=\u001b[0m \u001b[0msorted\u001b[0m\u001b[0;34m(\u001b[0m\u001b[0mresults\u001b[0m\u001b[0;34m.\u001b[0m\u001b[0mitems\u001b[0m\u001b[0;34m(\u001b[0m\u001b[0;34m)\u001b[0m\u001b[0;34m)\u001b[0m\u001b[0;34m\u001b[0m\u001b[0;34m\u001b[0m\u001b[0m\n\u001b[1;32m      3\u001b[0m \u001b[0;32mfor\u001b[0m \u001b[0mname\u001b[0m\u001b[0;34m,\u001b[0m \u001b[0mrecorders\u001b[0m \u001b[0;32min\u001b[0m \u001b[0mresults_sorted\u001b[0m\u001b[0;34m:\u001b[0m\u001b[0;34m\u001b[0m\u001b[0;34m\u001b[0m\u001b[0m\n\u001b[0;32m----> 4\u001b[0;31m     \u001b[0minfection_percent\u001b[0m \u001b[0;34m=\u001b[0m \u001b[0;34m[\u001b[0m\u001b[0mr\u001b[0m\u001b[0;34m.\u001b[0m\u001b[0mstory\u001b[0m\u001b[0;34m[\u001b[0m\u001b[0;34m-\u001b[0m\u001b[0;36m1\u001b[0m\u001b[0;34m]\u001b[0m\u001b[0;34m[\u001b[0m\u001b[0;36m1\u001b[0m\u001b[0;34m]\u001b[0m \u001b[0;34m*\u001b[0m \u001b[0;36m100\u001b[0m \u001b[0;32mfor\u001b[0m \u001b[0mr\u001b[0m \u001b[0;32min\u001b[0m \u001b[0mrecorders\u001b[0m\u001b[0;34m]\u001b[0m\u001b[0;34m\u001b[0m\u001b[0;34m\u001b[0m\u001b[0m\n\u001b[0m\u001b[1;32m      5\u001b[0m     \u001b[0mtest_backlog\u001b[0m \u001b[0;34m=\u001b[0m \u001b[0;34m[\u001b[0m\u001b[0mr\u001b[0m\u001b[0;34m.\u001b[0m\u001b[0mstory\u001b[0m\u001b[0;34m[\u001b[0m\u001b[0;34m-\u001b[0m\u001b[0;36m1\u001b[0m\u001b[0;34m]\u001b[0m\u001b[0;34m[\u001b[0m\u001b[0;36m4\u001b[0m\u001b[0;34m]\u001b[0m \u001b[0;34m*\u001b[0m \u001b[0;36m100\u001b[0m \u001b[0;32mfor\u001b[0m \u001b[0mr\u001b[0m \u001b[0;32min\u001b[0m \u001b[0mrecorders\u001b[0m\u001b[0;34m]\u001b[0m\u001b[0;34m\u001b[0m\u001b[0;34m\u001b[0m\u001b[0m\n\u001b[1;32m      6\u001b[0m     \u001b[0mr0s\u001b[0m \u001b[0;34m=\u001b[0m \u001b[0;34m[\u001b[0m\u001b[0mr\u001b[0m\u001b[0;34m.\u001b[0m\u001b[0mrealized_r0\u001b[0m \u001b[0;32mfor\u001b[0m \u001b[0mr\u001b[0m \u001b[0;32min\u001b[0m \u001b[0mrecorders\u001b[0m\u001b[0;34m]\u001b[0m\u001b[0;34m\u001b[0m\u001b[0;34m\u001b[0m\u001b[0m\n",
      "\u001b[0;31mAttributeError\u001b[0m: 'OutbreakRecorder' object has no attribute 'story'"
     ]
    }
   ],
   "source": [
    "print (f\"{'config':<60} pc_infected (mean  &  std)    R0      q%/head   num_runs\")\n",
    "results_sorted = sorted(results.items())\n",
    "for name, recorders in results_sorted:\n",
    "    infection_percent = [r.story[-1][1] * 100 for r in recorders]\n",
    "    test_backlog = [r.story[-1][4] * 100 for r in recorders]\n",
    "    r0s = [r.realized_r0 for r in recorders]\n",
    "    print(f\"{name:<60}         \"\n",
    "          f\"    {np.mean(infection_percent):<2.2f}\"\n",
    "          f\"    {np.std(infection_percent) / np.sqrt(len(infection_percent)):2.4f}\"\n",
    "          f\"    {np.mean(r0s):2.2f}\"\n",
    "          f\"    {np.mean(test_backlog):2.2f}\"\n",
    "          f\"    {len(test_backlog)}\")"
   ]
  },
  {
   "cell_type": "markdown",
   "metadata": {},
   "source": [
    "... plot a couple of epidemic curves out:"
   ]
  },
  {
   "cell_type": "code",
   "execution_count": null,
   "metadata": {},
   "outputs": [],
   "source": [
    "name = \"LateralFlow_True_20_100_DAILY_TEST=0.0075_SIMULATOR_=4\"\n",
    "for i in range(2):\n",
    "    o = results[name][i]\n",
    "    o.plot(title = name + \"_\" + str(i))\n",
    "    print(o.realized_r0)"
   ]
  }
 ],
 "metadata": {
  "kernelspec": {
   "display_name": "codit",
   "language": "python",
   "name": "codit"
  },
  "language_info": {
   "codemirror_mode": {
    "name": "ipython",
    "version": 3
   },
   "file_extension": ".py",
   "mimetype": "text/x-python",
   "name": "python",
   "nbconvert_exporter": "python",
   "pygments_lexer": "ipython3",
   "version": "3.8.10"
  }
 },
 "nbformat": 4,
 "nbformat_minor": 4
}
