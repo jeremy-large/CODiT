{
 "cells": [
  {
   "cell_type": "markdown",
   "metadata": {},
   "source": [
    "### We begin with boilerplate:"
   ]
  },
  {
   "cell_type": "code",
   "execution_count": 1,
   "metadata": {},
   "outputs": [],
   "source": [
    "%matplotlib inline \n",
    "import matplotlib.pyplot as plt\n",
    "from IPython.display import HTML\n",
    "plt.rcParams[\"figure.figsize\"] = [12, 5]"
   ]
  },
  {
   "cell_type": "code",
   "execution_count": 2,
   "metadata": {},
   "outputs": [],
   "source": [
    "%load_ext autoreload\n",
    "%autoreload 2"
   ]
  },
  {
   "cell_type": "code",
   "execution_count": 3,
   "metadata": {},
   "outputs": [],
   "source": [
    "import numpy as np"
   ]
  },
  {
   "cell_type": "code",
   "execution_count": 4,
   "metadata": {},
   "outputs": [],
   "source": [
    "import logging\n",
    "logging.basicConfig(format='%(asctime)s %(levelname)s:%(message)s', level=logging.INFO)"
   ]
  },
  {
   "cell_type": "markdown",
   "metadata": {},
   "source": [
    "# Covid epidemic simulator"
   ]
  },
  {
   "cell_type": "code",
   "execution_count": 5,
   "metadata": {},
   "outputs": [],
   "source": [
    "from codit.disease import Covid\n",
    "from codit.outbreak import Outbreak\n",
    "from codit.population.covid import PersonCovid\n",
    "import codit.society as society\n",
    "import codit.society.alternatives\n",
    "import codit.config\n",
    "\n",
    "from codit.population.networks.city import CityPopulation\n",
    "from codit.population.networks.city_config.city_cfg import city_paras\n",
    "CITY_OBSERVE = 'Leeds'\n",
    "POP_SIZE = city_paras[CITY_OBSERVE]['population']\n",
    "LOCKDOWN_LEVEL = 0.8\n",
    "COVID_TYPE = 'B.1.1.7'"
   ]
  },
  {
   "cell_type": "markdown",
   "metadata": {},
   "source": [
    "### Baseline config of the simulation"
   ]
  },
  {
   "cell_type": "code",
   "execution_count": 6,
   "metadata": {},
   "outputs": [
    {
     "name": "stdout",
     "output_type": "stream",
     "text": [
      "CROSS_IMMUNITY {'other': {'other'}, 'SARS-CoV-2': {'SARS-CoV-2', 'B.1.1.7'}, 'B.1.1.7': {'SARS-CoV-2', 'B.1.1.7'}}\n",
      "DAILY_TEST_CAPACITY_PER_HEAD 0.0075\n",
      "DAYS_BEFORE_INFECTIOUS 4\n",
      "DAYS_INFECTIOUS_TO_SYMPTOMS 2\n",
      "DAYS_OF_SYMPTOMS 5\n",
      "DEFAULT_COVID SARS-CoV-2\n",
      "DURATION_OF_ISOLATION 10\n",
      "MEAN_NETWORK_SIZE 9.0\n",
      "PROB_APPLY_FOR_TEST_IF_SYMPTOMS 0.75\n",
      "PROB_GET_TEST_IF_TRACED 0.75\n",
      "PROB_INFECT_IF_TOGETHER_ON_A_DAY {'SARS-CoV-2': 0.025, 'B.1.1.7': 0.039}\n",
      "PROB_ISOLATE_IF_SYMPTOMS 0.75\n",
      "PROB_ISOLATE_IF_TESTPOS 0.3\n",
      "PROB_ISOLATE_IF_TRACED 0.3\n",
      "PROB_NON_C19_SYMPTOMS_PER_DAY 0.01\n",
      "PROB_SYMPTOMATIC 0.6\n",
      "PROB_TEST_IF_REQUESTED 1\n",
      "PROB_TRACING_GIVEN_CONTACT 0.6000000000000001\n",
      "SIMULATOR_PERIODS_PER_DAY 1\n",
      "TEST_DAYS_ELAPSED 1\n",
      "VACCINATION_IMMUNITY {'AstraZeneca': {'SARS-CoV-2', 'B.1.1.7'}, 'Pfizer': {'SARS-CoV-2', 'B.1.1.7'}}\n",
      "_PROPORTION_OF_INFECTED_WHO_GET_TESTED 0.44999999999999996\n",
      "_TARGET_R0 1.4\n"
     ]
    }
   ],
   "source": [
    "codit.config.print_baseline_config()"
   ]
  },
  {
   "cell_type": "code",
   "execution_count": 7,
   "metadata": {},
   "outputs": [
    {
     "name": "stderr",
     "output_type": "stream",
     "text": [
      "2021-03-01 13:08:01,822 INFO:Building a set of 317255 households from which to build a population\n",
      "2021-03-01 13:08:05,541 INFO:There are 317255 households generated for accommodation buildings\n",
      "2021-03-01 13:08:07,331 INFO:305807 households of mean size 2.59\n",
      "2021-03-01 13:08:08,024 INFO:Only putting children >12 years old into classrooms.\n",
      "2021-03-01 13:08:08,025 INFO:There are 80.0% of classrooms closed due to lockdown, now 375 of classrooms are open\n",
      "2021-03-01 13:08:08,179 INFO:375 classrooms of mean size 31.00\n",
      "2021-03-01 13:08:08,465 INFO:135 care_homes of mean size 105.60\n",
      "2021-03-01 13:08:09,269 INFO:Initially created 93949 workplaces\n",
      "2021-03-01 13:08:09,282 INFO:After lockdown, there are 18789 workplaces open\n",
      "2021-03-01 13:08:09,323 INFO:18789 workplaces of mean size 5.63\n",
      "2021-03-01 13:08:09,384 INFO:Adding 325106 permanent contact groups\n",
      "2021-03-01 13:08:09,500 INFO:Adding 39657 ephemeral contact pairs\n"
     ]
    }
   ],
   "source": [
    "pop = CityPopulation(POP_SIZE, society.Society(), person_type=PersonCovid, lockdown_level=LOCKDOWN_LEVEL)"
   ]
  },
  {
   "cell_type": "code",
   "execution_count": 8,
   "metadata": {},
   "outputs": [],
   "source": [
    "nets = [len(p.contacts) for p in pop.people]"
   ]
  },
  {
   "cell_type": "code",
   "execution_count": 9,
   "metadata": {},
   "outputs": [
    {
     "data": {
      "text/plain": [
       "6.722914898901705"
      ]
     },
     "execution_count": 9,
     "metadata": {},
     "output_type": "execute_result"
    }
   ],
   "source": [
    "np.mean(nets)"
   ]
  },
  {
   "cell_type": "code",
   "execution_count": 10,
   "metadata": {},
   "outputs": [
    {
     "data": {
      "image/png": "[encoded data removed]",
      "text/plain": [
       "<Figure size 864x360 with 1 Axes>"
      ]
     },
     "metadata": {
      "needs_background": "light"
     },
     "output_type": "display_data"
    }
   ],
   "source": [
    "plt.hist(nets, cumulative=True, density=True, bins=2000)\n",
    "plt.title('Distribution of network sizes')\n",
    "plt.axvline(np.mean(nets), color='r')\n",
    "plt.grid()"
   ]
  },
  {
   "cell_type": "markdown",
   "metadata": {},
   "source": [
    "### Finally ready to simulate:\n",
    "We will place the population that we have created, into various settings and societies in the upcoming simulations"
   ]
  },
  {
   "cell_type": "code",
   "execution_count": 16,
   "metadata": {},
   "outputs": [
    {
     "data": {
      "text/plain": [
       "{'n_days': 59,\n",
       " 'pop_size': 793139,\n",
       " 'seed_size': 15862,\n",
       " 'population': <codit.population.networks.city.CityPopulation at 0x7efcf51a16a0>,\n",
       " 'show_heatmap': True}"
      ]
     },
     "execution_count": 16,
     "metadata": {},
     "output_type": "execute_result"
    }
   ],
   "source": [
    "SHOW_HEATMAP = True\n",
    "IS_HTML5 = False\n",
    "PREVALENCE = 1/50\n",
    "SCALE_SETTINGS = dict(n_days = 59, pop_size = POP_SIZE, seed_size = int(POP_SIZE*PREVALENCE), population=pop, show_heatmap = SHOW_HEATMAP)\n",
    "SCALE_SETTINGS"
   ]
  },
  {
   "cell_type": "markdown",
   "metadata": {},
   "source": [
    "UK society, however, is characterized by testing bottlenecks:"
   ]
  },
  {
   "cell_type": "code",
   "execution_count": null,
   "metadata": {},
   "outputs": [
    {
     "name": "stderr",
     "output_type": "stream",
     "text": [
      "2021-03-01 13:28:31,645 WARNING:Using a pre-existing population - does it have the right network structure?\n",
      "2021-03-01 13:28:46,856 INFO:Day 1, prop infected is 0.02, prop infectious is 0.0143\n"
     ]
    }
   ],
   "source": [
    "o_UK = Outbreak(society.alternatives.UKSociety(), Covid(name=COVID_TYPE), **SCALE_SETTINGS).simulate()"
   ]
  },
  {
   "cell_type": "code",
   "execution_count": null,
   "metadata": {},
   "outputs": [],
   "source": [
    "o_UK.plot(title='UK society with TTI bottlenecks - people isolate for longer')"
   ]
  },
  {
   "cell_type": "markdown",
   "metadata": {},
   "source": [
    "Lets put that on a log scale:"
   ]
  },
  {
   "cell_type": "code",
   "execution_count": null,
   "metadata": {},
   "outputs": [],
   "source": [
    "o_UK.plot(logy=True, title='UK society')"
   ]
  },
  {
   "cell_type": "code",
   "execution_count": null,
   "metadata": {},
   "outputs": [],
   "source": [
    "HTML(o_UK.outbreak_visualise(IS_HTML5))"
   ]
  },
  {
   "cell_type": "code",
   "execution_count": null,
   "metadata": {},
   "outputs": [],
   "source": []
  }
 ],
 "metadata": {
  "kernelspec": {
   "display_name": "Python 3",
   "language": "python",
   "name": "python3"
  },
  "language_info": {
   "codemirror_mode": {
    "name": "ipython",
    "version": 3
   },
   "file_extension": ".py",
   "mimetype": "text/x-python",
   "name": "python",
   "nbconvert_exporter": "python",
   "pygments_lexer": "ipython3",
   "version": "3.8.5"
  }
 },
 "nbformat": 4,
 "nbformat_minor": 4
}
