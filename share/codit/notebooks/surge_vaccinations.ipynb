{
 "cells": [
  {
   "cell_type": "markdown",
   "metadata": {},
   "source": [
    "### Import standard modules\n"
   ]
  },
  {
   "cell_type": "code",
   "execution_count": 1,
   "metadata": {},
   "outputs": [],
   "source": [
    "%matplotlib inline\n",
    "%load_ext autoreload\n",
    "%autoreload 2\n",
    "import matplotlib.pyplot as plt"
   ]
  },
  {
   "cell_type": "markdown",
   "metadata": {},
   "source": [
    "### Initialize standard logger"
   ]
  },
  {
   "cell_type": "code",
   "execution_count": 2,
   "metadata": {},
   "outputs": [],
   "source": [
    "import logging\n",
    "\n",
    "logging.basicConfig(format=\"%(asctime)s.%(msecs)03d %(levelname)-8s %(message)s\",\n",
    "                    datefmt=\"%Y-%m-%d %H:%M:%S\",\n",
    "                    level=logging.INFO)"
   ]
  },
  {
   "cell_type": "markdown",
   "metadata": {},
   "source": [
    "### Create the Simulation State\n",
    "\n",
    "There are 2 objects that hold the state of the simulation:\n",
    "  1. *Population* is a container for the state each persion\n",
    "  2. *Society* is the state of the government, eg the testing processes"
   ]
  },
  {
   "cell_type": "code",
   "execution_count": 3,
   "metadata": {},
   "outputs": [],
   "source": [
    "from codit.society import Society\n",
    "from codit.population.covid import PersonCovid\n",
    "from codit.population.networks.city import CityPopulation\n",
    "from codit.population.networks.city_config.city_cfg import city_paras\n",
    "from codit.society.alternatives import UKSociety"
   ]
  },
  {
   "cell_type": "code",
   "execution_count": 4,
   "metadata": {},
   "outputs": [],
   "source": [
    "POPULATION_SIZE = city_paras[\"Leeds\"]['population']"
   ]
  },
  {
   "cell_type": "code",
   "execution_count": null,
   "metadata": {},
   "outputs": [
    {
     "name": "stderr",
     "output_type": "stream",
     "text": [
      "2021-05-16 15:47:02.372 INFO     Building a set of 317255 households from which to build a population\n"
     ]
    }
   ],
   "source": [
    "# Most classrooms and workplaces are closed\n",
    "LOCKDOWN_CFG = dict(classrooms=0.66, workplaces=0.66, ephemeral_contact=0.0)\n",
    "\n",
    "# We assume that Covid survivors, and the vaccinated, have an 80% chance of catching and passing on the disease another time:\n",
    "X_IMMUNITY=0.8\n",
    "# However this factor is square for the indian variant (and 80% squared is 64%)\n",
    "\n",
    "pop = CityPopulation(POPULATION_SIZE, Society(config=dict(X_IMMUNITY=X_IMMUNITY)), \n",
    "                     person_type=PersonCovid, lockdown_config=LOCKDOWN_CFG)\n",
    "\n",
    "SOCIETY_CFG = dict(DAILY_TEST_CAPACITY_PER_HEAD=0.01, \n",
    "                   PROB_APPLY_FOR_TEST_IF_SYMPTOMS=0.25)\n",
    "\n",
    "soc = UKSociety(config=SOCIETY_CFG)"
   ]
  },
  {
   "cell_type": "markdown",
   "metadata": {},
   "source": [
    "### Create the 2 variants"
   ]
  },
  {
   "cell_type": "code",
   "execution_count": null,
   "metadata": {},
   "outputs": [],
   "source": [
    "from codit.disease import Covid\n",
    "\n",
    "kent_variant = Covid(name=\"B.1.1.7\")\n",
    "indian_variant = Covid(name=\"B.1.617.2\")"
   ]
  },
  {
   "cell_type": "markdown",
   "metadata": {},
   "source": [
    "### Burn in the simulation"
   ]
  },
  {
   "cell_type": "code",
   "execution_count": null,
   "metadata": {},
   "outputs": [],
   "source": [
    "from codit.outbreak import Outbreak\n",
    "\n",
    "BURNIN_DAYS = 30\n",
    "WINTER_PREVALENCE = 1/40\n",
    "SEED_SIZE = int(POPULATION_SIZE * WINTER_PREVALENCE)\n",
    "\n",
    "o_burnin = Outbreak(soc, kent_variant, n_days=BURNIN_DAYS, seed_size=SEED_SIZE, population=pop)\n",
    "o_burnin.simulate()"
   ]
  },
  {
   "cell_type": "markdown",
   "metadata": {},
   "source": [
    "### Run the simulation for January and February"
   ]
  },
  {
   "cell_type": "code",
   "execution_count": null,
   "metadata": {},
   "outputs": [],
   "source": [
    "from codit.outbreak_recorder import WardComponent\n",
    "\n",
    "DAYS_MONTH = 30\n",
    "\n",
    "o_Jan_Feb = Outbreak(soc, n_days=DAYS_MONTH * 2, population=pop, reset_population=False)\n",
    "o_Jan_Feb.recorder.add_component(WardComponent(o_Jan_Feb))\n",
    "o_Jan_Feb.simulate()\n",
    "o_Jan_Feb.recorder.plot(title=\"Jan-Feb\")"
   ]
  },
  {
   "cell_type": "markdown",
   "metadata": {},
   "source": [
    "### March \n",
    "  1. Open classrooms\n",
    "  2. People now 'brush past' on average 0.3 others randomly per day (see COMIX)\n",
    "  3. Vaccinate the over 60s"
   ]
  },
  {
   "cell_type": "code",
   "execution_count": null,
   "metadata": {},
   "outputs": [],
   "source": [
    "LOCKDOWN_CFG = dict(classrooms=0.0, workplaces=0.66, ephemeral_contact=0.3)\n",
    "\n",
    "pop.set_structure(soc, lockdown_config=LOCKDOWN_CFG)\n",
    "pop.clear_memory()\n",
    "\n",
    "for i, p in enumerate(pop.people):\n",
    "    if p.age > 60 and i % 20: # we vaccinate 19 in every 20 people\n",
    "        p.vaccinate_with(\"AstraZeneca\")"
   ]
  },
  {
   "cell_type": "code",
   "execution_count": null,
   "metadata": {},
   "outputs": [],
   "source": [
    "from codit.society.lateral import LateralFlowUK\n",
    "lat_flow_soc = LateralFlowUK(config=SOCIETY_CFG)"
   ]
  },
  {
   "cell_type": "code",
   "execution_count": null,
   "metadata": {},
   "outputs": [],
   "source": [
    "o_March = Outbreak(lat_flow_soc, n_days=DAYS_MONTH, population=pop, reset_population=False)\n",
    "o_March.recorder.add_component(WardComponent(o_March))\n",
    "o_March.simulate()\n",
    "o_March.recorder.plot(title=\"March\")"
   ]
  },
  {
   "cell_type": "code",
   "execution_count": null,
   "metadata": {},
   "outputs": [],
   "source": [
    "o_March.recorder.components[-1].map_incidence(end_date=True)"
   ]
  },
  {
   "cell_type": "markdown",
   "metadata": {},
   "source": [
    "### April\n",
    "    1. More workplaces (such as non-essential retail) open up\n",
    "    2. More people brush past each other as restrictions are lifted\n",
    "    3. 10 people introduce the Indian variant into the Leeds population\n",
    "    4. Vaccinate the over 50s"
   ]
  },
  {
   "cell_type": "code",
   "execution_count": null,
   "metadata": {},
   "outputs": [],
   "source": [
    "LOCKDOWN_CFG = dict(classrooms=0.0, workplaces=0.5, ephemeral_contact=0.4)\n",
    "\n",
    "pop.set_structure(lat_flow_soc, lockdown_config=LOCKDOWN_CFG)"
   ]
  },
  {
   "cell_type": "code",
   "execution_count": null,
   "metadata": {},
   "outputs": [],
   "source": [
    "from codit.population.population import seed_infection\n",
    "\n",
    "residents = [p for p in pop.people if 'Chapel' in p.home.ward.name]\n",
    "ca, = {p.home.ward.name for p in residents}\n",
    "logging.info(f\"Seeding 50 infections in {ca}\")\n",
    "seed_infection(15, residents, indian_variant)"
   ]
  },
  {
   "cell_type": "code",
   "execution_count": null,
   "metadata": {},
   "outputs": [],
   "source": [
    "for i, p in enumerate(pop.people):\n",
    "    if (60 >= p.age > 50) and i % 20: # vaccinate 19 in every 20 people\n",
    "        p.vaccinate_with(\"AstraZeneca\")"
   ]
  },
  {
   "cell_type": "code",
   "execution_count": null,
   "metadata": {},
   "outputs": [],
   "source": [
    "pop.clear_memory()"
   ]
  },
  {
   "cell_type": "code",
   "execution_count": null,
   "metadata": {},
   "outputs": [],
   "source": [
    "o_April = Outbreak(lat_flow_soc, n_days=DAYS_MONTH, population=pop, reset_population=False)\n",
    "o_April.recorder.add_component(WardComponent(o_April))\n",
    "o_April.simulate()\n",
    "o_April.recorder.plot(title=\"April\")"
   ]
  },
  {
   "cell_type": "code",
   "execution_count": null,
   "metadata": {},
   "outputs": [],
   "source": [
    "infected_wards = [p.home.ward for p in pop.people if p.disease == indian_variant]\n",
    "print(f\"{len(infected_wards)} cases of the Indian Variant:\")\n",
    "counts = {x.name: infected_wards.count(x) for x in infected_wards}\n",
    "for k, v in counts.items():\n",
    "    print(f\"{v} in {k}\")"
   ]
  },
  {
   "cell_type": "code",
   "execution_count": null,
   "metadata": {},
   "outputs": [],
   "source": [
    "o_April.recorder.components[-1].map_incidence(end_date=True)"
   ]
  },
  {
   "cell_type": "markdown",
   "metadata": {},
   "source": [
    "### May\n",
    "    1. Even more workplaces open up\n",
    "    2. More people brush past on average 0.5 others randomly per day\n"
   ]
  },
  {
   "cell_type": "code",
   "execution_count": null,
   "metadata": {},
   "outputs": [],
   "source": [
    "LOCKDOWN_CFG = dict(classrooms=0.0, workplaces=0.33, ephemeral_contact=0.5)\n",
    "pop.clear_memory()\n",
    "pop.set_structure(lat_flow_soc, lockdown_config=LOCKDOWN_CFG)\n",
    "\n",
    "for i, p in enumerate(pop.people):\n",
    "    if (50 >= p.age > 45) and i % 20: # we vaccinate 19 in every 20 people\n",
    "        p.vaccinate_with(\"AstraZeneca\")"
   ]
  },
  {
   "cell_type": "markdown",
   "metadata": {},
   "source": [
    "### Surge Vaccinations all people over 16?"
   ]
  },
  {
   "cell_type": "code",
   "execution_count": null,
   "metadata": {},
   "outputs": [],
   "source": [
    "# for p in pop.people:\n",
    "#     if p.age > 16:\n",
    "#         p.vaccinate_with('AstraZeneca')"
   ]
  },
  {
   "cell_type": "code",
   "execution_count": null,
   "metadata": {},
   "outputs": [],
   "source": [
    "o_May = Outbreak(lat_flow_soc, n_days=DAYS_MONTH, population=pop, reset_population=False)\n",
    "o_May.recorder.add_component(WardComponent(o_May))\n",
    "o_May.simulate()\n",
    "o_May.recorder.plot(title=\"May\")"
   ]
  },
  {
   "cell_type": "code",
   "execution_count": null,
   "metadata": {},
   "outputs": [],
   "source": [
    "infected_wards = [p.home.ward for p in pop.people if p.disease == indian_variant]\n",
    "print(f\"{len(infected_wards)} cases of the Indian Variant:\")\n",
    "counts = {x.name: infected_wards.count(x) for x in infected_wards}\n",
    "for k, v in counts.items():\n",
    "    print(f\"{v} in {k}\")"
   ]
  },
  {
   "cell_type": "code",
   "execution_count": null,
   "metadata": {},
   "outputs": [],
   "source": [
    "o_May.recorder.components[-1].map_incidence(end_date=True)"
   ]
  },
  {
   "cell_type": "code",
   "execution_count": null,
   "metadata": {},
   "outputs": [],
   "source": []
  }
 ],
 "metadata": {
  "kernelspec": {
   "display_name": "Python 3",
   "language": "python",
   "name": "python3"
  },
  "language_info": {
   "codemirror_mode": {
    "name": "ipython",
    "version": 3
   },
   "file_extension": ".py",
   "mimetype": "text/x-python",
   "name": "python",
   "nbconvert_exporter": "python",
   "pygments_lexer": "ipython3",
   "version": "3.8.5"
  }
 },
 "nbformat": 4,
 "nbformat_minor": 4
}
